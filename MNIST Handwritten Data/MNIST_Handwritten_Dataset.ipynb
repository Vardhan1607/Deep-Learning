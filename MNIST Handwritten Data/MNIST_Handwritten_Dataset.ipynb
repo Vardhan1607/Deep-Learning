{
  "nbformat": 4,
  "nbformat_minor": 0,
  "metadata": {
    "colab": {
      "name": "MNIST Handwritten Dataset.ipynb",
      "provenance": []
    },
    "kernelspec": {
      "name": "python3",
      "display_name": "Python 3"
    }
  },
  "cells": [
    {
      "cell_type": "code",
      "metadata": {
        "id": "eOa3mLEMYRfM"
      },
      "source": [
        "#Importing Libraries\n",
        "import keras\n",
        "from keras.datasets import mnist\n",
        "\n",
        "import numpy as np\n",
        "import pandas as pd\n",
        "import matplotlib.pyplot as plt\n",
        "import random\n",
        "\n",
        "import keras\n",
        "import tensorflow as tf\n",
        "from tensorflow.keras.layers import Flatten,Dense,BatchNormalization,MaxPooling2D,Conv2D,Activation,Dropout,GlobalAveragePooling2D\n",
        "from tensorflow.keras.models import Model,Sequential\n",
        "from tensorflow.keras.optimizers import SGD"
      ],
      "execution_count": 63,
      "outputs": []
    },
    {
      "cell_type": "code",
      "metadata": {
        "id": "FzDXMua0atIc"
      },
      "source": [
        "#Processesing Data\n",
        "(X_train, y_train), (X_test, y_test) = mnist.load_data()"
      ],
      "execution_count": 46,
      "outputs": []
    },
    {
      "cell_type": "code",
      "metadata": {
        "colab": {
          "base_uri": "https://localhost:8080/",
          "height": 369
        },
        "id": "ZPfuJhMEaxR8",
        "outputId": "8e1807ab-c61d-47de-872a-76a87b27b9b0"
      },
      "source": [
        "#Visualizing the Data\n",
        "plt.figure(figsize=(7,5))\n",
        "for i in range(9):\n",
        "  plt.subplot(330+1+i)\n",
        "  plt.imshow(X_train[i],cmap='gray')\n",
        "  plt.title(\"Digit: {}\".format(y_train[i]))\n",
        "  plt.xticks([])\n",
        "  plt.yticks([])\n",
        "plt.tight_layout()"
      ],
      "execution_count": 47,
      "outputs": [
        {
          "output_type": "display_data",
          "data": {
            "image/png": "[encoded data removed]",
            "text/plain": [
              "<Figure size 504x360 with 9 Axes>"
            ]
          },
          "metadata": {
            "tags": []
          }
        }
      ]
    },
    {
      "cell_type": "code",
      "metadata": {
        "id": "aG7arRIugW30"
      },
      "source": [
        "X_train = X_train.reshape(X_train.shape[0], 28,28, 1)\n",
        "X_test = X_test.reshape(X_test.shape[0], 28, 28, 1)\n",
        "input_shape = (28,28, 1)"
      ],
      "execution_count": 48,
      "outputs": []
    },
    {
      "cell_type": "code",
      "metadata": {
        "colab": {
          "base_uri": "https://localhost:8080/"
        },
        "id": "6NL9Tn2Dka7w",
        "outputId": "c1c77c3b-2d1c-45a8-fe2e-7481cc0b12d3"
      },
      "source": [
        "X_train.shape"
      ],
      "execution_count": 50,
      "outputs": [
        {
          "output_type": "execute_result",
          "data": {
            "text/plain": [
              "(60000, 28, 28, 1)"
            ]
          },
          "metadata": {
            "tags": []
          },
          "execution_count": 50
        }
      ]
    },
    {
      "cell_type": "code",
      "metadata": {
        "id": "BAJO1Yn8cyOt"
      },
      "source": [
        "#Converting the given data to a binary vector\n",
        "X_train = X_train/255\n",
        "X_test = X_test/255"
      ],
      "execution_count": 51,
      "outputs": []
    },
    {
      "cell_type": "code",
      "metadata": {
        "id": "-FL9lB1Ic6I2"
      },
      "source": [
        "num_category = 10\n",
        "y_train = keras.utils.to_categorical(y_train, num_category)\n",
        "y_test = keras.utils.to_categorical(y_test, num_category)"
      ],
      "execution_count": 52,
      "outputs": []
    },
    {
      "cell_type": "code",
      "metadata": {
        "colab": {
          "base_uri": "https://localhost:8080/"
        },
        "id": "U_oFmWK7dGex",
        "outputId": "a9fbd667-8d16-4c03-c07c-9068619a3a03"
      },
      "source": [
        "#Building the Model\n",
        "\n",
        "model=Sequential()\n",
        "#First Layer\n",
        "model.add(Conv2D(32, (3, 3), activation='relu', kernel_initializer='he_uniform', input_shape=(28, 28, 1)))\n",
        "model.add(MaxPooling2D((2, 2)))\n",
        "\n",
        "#Second Layer\n",
        "model.add(Conv2D(64, (3, 3), activation='relu', kernel_initializer='he_uniform'))\n",
        "\n",
        "#Third Layer\n",
        "model.add(Conv2D(64, (3, 3), activation='relu', kernel_initializer='he_uniform'))\n",
        "model.add(MaxPooling2D((2, 2)))\n",
        "\n",
        "model.add(Flatten())\n",
        "\n",
        "#Fully Flattened Layer\n",
        "model.add(Dense(100, activation='relu', kernel_initializer='he_uniform'))\n",
        "model.add(Dense(10, activation='softmax'))\n",
        "\n",
        "# Compile model\n",
        "opt = SGD(lr=0.01, momentum=0.9)\n",
        "model.compile(optimizer=opt, loss='categorical_crossentropy', metrics=['accuracy'])\n",
        "\n",
        "model.summary()"
      ],
      "execution_count": 64,
      "outputs": [
        {
          "output_type": "stream",
          "text": [
            "Model: \"sequential_11\"\n",
            "_________________________________________________________________\n",
            "Layer (type)                 Output Shape              Param #   \n",
            "=================================================================\n",
            "conv2d_20 (Conv2D)           (None, 26, 26, 32)        320       \n",
            "_________________________________________________________________\n",
            "max_pooling2d_9 (MaxPooling2 (None, 13, 13, 32)        0         \n",
            "_________________________________________________________________\n",
            "conv2d_21 (Conv2D)           (None, 11, 11, 64)        18496     \n",
            "_________________________________________________________________\n",
            "conv2d_22 (Conv2D)           (None, 9, 9, 64)          36928     \n",
            "_________________________________________________________________\n",
            "max_pooling2d_10 (MaxPooling (None, 4, 4, 64)          0         \n",
            "_________________________________________________________________\n",
            "flatten_6 (Flatten)          (None, 1024)              0         \n",
            "_________________________________________________________________\n",
            "dense_12 (Dense)             (None, 100)               102500    \n",
            "_________________________________________________________________\n",
            "dense_13 (Dense)             (None, 10)                1010      \n",
            "=================================================================\n",
            "Total params: 159,254\n",
            "Trainable params: 159,254\n",
            "Non-trainable params: 0\n",
            "_________________________________________________________________\n"
          ],
          "name": "stdout"
        }
      ]
    },
    {
      "cell_type": "code",
      "metadata": {
        "colab": {
          "base_uri": "https://localhost:8080/"
        },
        "id": "sWPUo-tSldyC",
        "outputId": "969a2d07-f2c2-434f-8355-4cf6144ad504"
      },
      "source": [
        "#Fitting of the Data\n",
        "batch_size = 128\n",
        "num_epoch = 10\n",
        "#model training\n",
        "model_log = model.fit(X_train, y_train,\n",
        "          batch_size=batch_size,\n",
        "          epochs=num_epoch,\n",
        "          verbose=1,\n",
        "          validation_data=(X_test, y_test))"
      ],
      "execution_count": 65,
      "outputs": [
        {
          "output_type": "stream",
          "text": [
            "Epoch 1/10\n",
            "469/469 [==============================] - 71s 150ms/step - loss: 0.1779 - accuracy: 0.9449 - val_loss: 0.0604 - val_accuracy: 0.9807\n",
            "Epoch 2/10\n",
            "469/469 [==============================] - 70s 149ms/step - loss: 0.0583 - accuracy: 0.9819 - val_loss: 0.0448 - val_accuracy: 0.9849\n",
            "Epoch 3/10\n",
            "469/469 [==============================] - 70s 149ms/step - loss: 0.0409 - accuracy: 0.9872 - val_loss: 0.0369 - val_accuracy: 0.9871\n",
            "Epoch 4/10\n",
            "469/469 [==============================] - 69s 148ms/step - loss: 0.0340 - accuracy: 0.9890 - val_loss: 0.0332 - val_accuracy: 0.9886\n",
            "Epoch 5/10\n",
            "469/469 [==============================] - 70s 148ms/step - loss: 0.0260 - accuracy: 0.9920 - val_loss: 0.0339 - val_accuracy: 0.9892\n",
            "Epoch 6/10\n",
            "469/469 [==============================] - 70s 149ms/step - loss: 0.0213 - accuracy: 0.9933 - val_loss: 0.0311 - val_accuracy: 0.9901\n",
            "Epoch 7/10\n",
            "469/469 [==============================] - 70s 149ms/step - loss: 0.0175 - accuracy: 0.9942 - val_loss: 0.0298 - val_accuracy: 0.9906\n",
            "Epoch 8/10\n",
            "469/469 [==============================] - 70s 150ms/step - loss: 0.0155 - accuracy: 0.9952 - val_loss: 0.0321 - val_accuracy: 0.9900\n",
            "Epoch 9/10\n",
            "469/469 [==============================] - 70s 149ms/step - loss: 0.0119 - accuracy: 0.9965 - val_loss: 0.0294 - val_accuracy: 0.9907\n",
            "Epoch 10/10\n",
            "469/469 [==============================] - 71s 151ms/step - loss: 0.0099 - accuracy: 0.9972 - val_loss: 0.0303 - val_accuracy: 0.9907\n"
          ],
          "name": "stdout"
        }
      ]
    }
  ]
}